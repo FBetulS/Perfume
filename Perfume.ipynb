{
 "cells": [
  {
   "cell_type": "markdown",
   "id": "fe0c9386-0059-4f6b-8681-679bab64a75c",
   "metadata": {},
   "source": [
    "# Perfume"
   ]
  },
  {
   "cell_type": "markdown",
   "id": "f4b7aaf5-a186-416e-9899-763fa19f4cd5",
   "metadata": {},
   "source": [
    "# Proje Açıklaması\n",
    "Bu proje, parfüm verilerini analiz etmek ve en popüler parfümleri, notaları ve markaları incelemek amacıyla gerçekleştirilmiştir. Veriler, Fragrantica'dan alınan parfüm bilgilerini içermektedir. Projede, parfüm notalarının dağılımı, en popüler notalar, en olumlu ve olumsuz yorumlara sahip parfümler ile marka analizleri yapılmıştır. Ayrıca, parfüm öneri sistemi de geliştirilmiştir.\n"
   ]
  },
  {
   "cell_type": "markdown",
   "id": "4855cdb3-30d4-48e0-95f2-d842a2682c05",
   "metadata": {},
   "source": [
    "## Kullanılan Veriler\n",
    "Veriler, [Fragrantica Data | Kaggle](https://www.kaggle.com/datasets/joehusseinmama/fragrantica-data/data) adresinden temin edilmiştir. Bu veri seti, parfüm başlıkları, markaları, notaları ve kullanıcı puanlarını içermektedir."
   ]
  },
  {
   "cell_type": "code",
   "execution_count": 2,
   "id": "9942ed81-2aa6-428d-82cc-5586756eccdc",
   "metadata": {},
   "outputs": [],
   "source": [
    "import pandas as pd\n",
    "import pandas as pd\n",
    "import numpy as np\n",
    "import matplotlib.pyplot as plt\n",
    "import seaborn as sns\n",
    "from collections import Counter\n",
    "import re\n",
    "import ast\n",
    "from sklearn.feature_extraction.text import TfidfVectorizer\n",
    "from sklearn.metrics.pairwise import cosine_similarity\n",
    "from textblob import TextBlob\n",
    "import pandas as pd\n",
    "import ast\n",
    "from itertools import combinations\n",
    "from collections import Counter"
   ]
  },
  {
   "cell_type": "markdown",
   "id": "c79d1cc2-bef4-464d-a4c1-87075be838d4",
   "metadata": {},
   "source": [
    "### Veriyi yükle"
   ]
  },
  {
   "cell_type": "code",
   "execution_count": 4,
   "id": "692be50a-312f-46ef-9fac-308ba96ecc65",
   "metadata": {},
   "outputs": [],
   "source": [
    "df2 = pd.read_csv(\"perfumes_table.csv\")"
   ]
  },
  {
   "cell_type": "code",
   "execution_count": 5,
   "id": "04a67f2f-9568-4aac-b40e-da60cb560dd0",
   "metadata": {},
   "outputs": [
    {
     "data": {
      "text/plain": [
       "(84144, 7)"
      ]
     },
     "execution_count": 5,
     "metadata": {},
     "output_type": "execute_result"
    }
   ],
   "source": [
    "df2.shape"
   ]
  },
  {
   "cell_type": "code",
   "execution_count": 6,
   "id": "5005fb72-69e9-44dd-9fde-a1c2ab3dc74b",
   "metadata": {},
   "outputs": [
    {
     "data": {
      "text/html": [
       "<div>\n",
       "<style scoped>\n",
       "    .dataframe tbody tr th:only-of-type {\n",
       "        vertical-align: middle;\n",
       "    }\n",
       "\n",
       "    .dataframe tbody tr th {\n",
       "        vertical-align: top;\n",
       "    }\n",
       "\n",
       "    .dataframe thead th {\n",
       "        text-align: right;\n",
       "    }\n",
       "</style>\n",
       "<table border=\"1\" class=\"dataframe\">\n",
       "  <thead>\n",
       "    <tr style=\"text-align: right;\">\n",
       "      <th></th>\n",
       "      <th>rating</th>\n",
       "      <th>notes</th>\n",
       "      <th>designer</th>\n",
       "      <th>reviews</th>\n",
       "      <th>description</th>\n",
       "      <th>url</th>\n",
       "      <th>title</th>\n",
       "    </tr>\n",
       "  </thead>\n",
       "  <tbody>\n",
       "    <tr>\n",
       "      <th>44968</th>\n",
       "      <td>NaN</td>\n",
       "      <td>['Chinotto', 'Bitter Orange', 'Juniper', 'Card...</td>\n",
       "      <td>tuttotondo perfumes and colognes</td>\n",
       "      <td>['Fresh aromatic citrus with juniper that smel...</td>\n",
       "      <td>Chinotto by Tuttotondo is a Amber Floral fragr...</td>\n",
       "      <td>https://www.fragrantica.com/perfume/Tuttotondo...</td>\n",
       "      <td>Chinotto Tuttotondo for women and men</td>\n",
       "    </tr>\n",
       "    <tr>\n",
       "      <th>50596</th>\n",
       "      <td>NaN</td>\n",
       "      <td>['Fir', 'Pine', 'Siberian Pine', 'Juniper', 'M...</td>\n",
       "      <td>wood moss perfumes and colognes</td>\n",
       "      <td>[]</td>\n",
       "      <td>Ernak by Wood Moss is a Woody fragrance for wo...</td>\n",
       "      <td>https://www.fragrantica.com/perfume/Wood-Moss/...</td>\n",
       "      <td>Ernak Wood Moss for women and men</td>\n",
       "    </tr>\n",
       "    <tr>\n",
       "      <th>3961</th>\n",
       "      <td>NaN</td>\n",
       "      <td>['Lily', 'Floral Notes', 'Honey', 'Moss', 'Gre...</td>\n",
       "      <td>black phoenix alchemy lab perfumes and colognes</td>\n",
       "      <td>[]</td>\n",
       "      <td>The Phantom Wooer by Black Phoenix Alchemy Lab...</td>\n",
       "      <td>https://www.fragrantica.com/perfume/Black-Phoe...</td>\n",
       "      <td>The Phantom Wooer Black Phoenix Alchemy Lab fo...</td>\n",
       "    </tr>\n",
       "    <tr>\n",
       "      <th>59596</th>\n",
       "      <td>NaN</td>\n",
       "      <td>['Bergamot', 'Orange', 'Ylang-Ylang', 'Bulgari...</td>\n",
       "      <td>haas parfum perfumes and colognes</td>\n",
       "      <td>[]</td>\n",
       "      <td>Haas No.5 La femme de Candide by Haas Parfum i...</td>\n",
       "      <td>https://www.fragrantica.com/perfume/Haas-Parfu...</td>\n",
       "      <td>Haas No.5 La femme de Candide Haas Parfum for ...</td>\n",
       "    </tr>\n",
       "    <tr>\n",
       "      <th>21838</th>\n",
       "      <td>NaN</td>\n",
       "      <td>['Lavender', 'Green Notes', 'Bergamot', 'Nerol...</td>\n",
       "      <td>giorgio beverly hills perfumes and colognes</td>\n",
       "      <td>[\"I first bought Wings back in 2004 and it gar...</td>\n",
       "      <td>Wings for Men by Giorgio Beverly Hills is a Ar...</td>\n",
       "      <td>https://www.fragrantica.com/perfume/Giorgio-Be...</td>\n",
       "      <td>Wings for Men Giorgio Beverly Hills for men</td>\n",
       "    </tr>\n",
       "  </tbody>\n",
       "</table>\n",
       "</div>"
      ],
      "text/plain": [
       "       rating                                              notes  \\\n",
       "44968     NaN  ['Chinotto', 'Bitter Orange', 'Juniper', 'Card...   \n",
       "50596     NaN  ['Fir', 'Pine', 'Siberian Pine', 'Juniper', 'M...   \n",
       "3961      NaN  ['Lily', 'Floral Notes', 'Honey', 'Moss', 'Gre...   \n",
       "59596     NaN  ['Bergamot', 'Orange', 'Ylang-Ylang', 'Bulgari...   \n",
       "21838     NaN  ['Lavender', 'Green Notes', 'Bergamot', 'Nerol...   \n",
       "\n",
       "                                              designer  \\\n",
       "44968                 tuttotondo perfumes and colognes   \n",
       "50596                  wood moss perfumes and colognes   \n",
       "3961   black phoenix alchemy lab perfumes and colognes   \n",
       "59596                haas parfum perfumes and colognes   \n",
       "21838      giorgio beverly hills perfumes and colognes   \n",
       "\n",
       "                                                 reviews  \\\n",
       "44968  ['Fresh aromatic citrus with juniper that smel...   \n",
       "50596                                                 []   \n",
       "3961                                                  []   \n",
       "59596                                                 []   \n",
       "21838  [\"I first bought Wings back in 2004 and it gar...   \n",
       "\n",
       "                                             description  \\\n",
       "44968  Chinotto by Tuttotondo is a Amber Floral fragr...   \n",
       "50596  Ernak by Wood Moss is a Woody fragrance for wo...   \n",
       "3961   The Phantom Wooer by Black Phoenix Alchemy Lab...   \n",
       "59596  Haas No.5 La femme de Candide by Haas Parfum i...   \n",
       "21838  Wings for Men by Giorgio Beverly Hills is a Ar...   \n",
       "\n",
       "                                                     url  \\\n",
       "44968  https://www.fragrantica.com/perfume/Tuttotondo...   \n",
       "50596  https://www.fragrantica.com/perfume/Wood-Moss/...   \n",
       "3961   https://www.fragrantica.com/perfume/Black-Phoe...   \n",
       "59596  https://www.fragrantica.com/perfume/Haas-Parfu...   \n",
       "21838  https://www.fragrantica.com/perfume/Giorgio-Be...   \n",
       "\n",
       "                                                   title  \n",
       "44968              Chinotto Tuttotondo for women and men  \n",
       "50596                  Ernak Wood Moss for women and men  \n",
       "3961   The Phantom Wooer Black Phoenix Alchemy Lab fo...  \n",
       "59596  Haas No.5 La femme de Candide Haas Parfum for ...  \n",
       "21838        Wings for Men Giorgio Beverly Hills for men  "
      ]
     },
     "execution_count": 6,
     "metadata": {},
     "output_type": "execute_result"
    }
   ],
   "source": [
    "df2.sample(5)"
   ]
  },
  {
   "cell_type": "code",
   "execution_count": 7,
   "id": "f0f8cae8-8098-4259-8852-12d417419f9e",
   "metadata": {},
   "outputs": [
    {
     "data": {
      "text/plain": [
       "rating         81670\n",
       "notes              0\n",
       "designer           0\n",
       "reviews            0\n",
       "description        8\n",
       "url                0\n",
       "title              8\n",
       "dtype: int64"
      ]
     },
     "execution_count": 7,
     "metadata": {},
     "output_type": "execute_result"
    }
   ],
   "source": [
    "df2.isnull().sum()"
   ]
  },
  {
   "cell_type": "code",
   "execution_count": 8,
   "id": "d533a88c-f2e0-4400-ba86-7860f96acca9",
   "metadata": {},
   "outputs": [
    {
     "data": {
      "text/plain": [
       "2474"
      ]
     },
     "execution_count": 8,
     "metadata": {},
     "output_type": "execute_result"
    }
   ],
   "source": [
    "84144-81670"
   ]
  },
  {
   "cell_type": "code",
   "execution_count": 9,
   "id": "12e51847-87ec-43f2-bab1-ab50470691d5",
   "metadata": {},
   "outputs": [],
   "source": [
    "df2 = df2.dropna(subset=['rating'])"
   ]
  },
  {
   "cell_type": "code",
   "execution_count": 10,
   "id": "4d8a894a-ee6c-473e-b1fc-507ce9250a37",
   "metadata": {},
   "outputs": [
    {
     "name": "stdout",
     "output_type": "stream",
     "text": [
      "<class 'pandas.core.frame.DataFrame'>\n",
      "Index: 2474 entries, 0 to 3214\n",
      "Data columns (total 7 columns):\n",
      " #   Column       Non-Null Count  Dtype  \n",
      "---  ------       --------------  -----  \n",
      " 0   rating       2474 non-null   float64\n",
      " 1   notes        2474 non-null   object \n",
      " 2   designer     2474 non-null   object \n",
      " 3   reviews      2474 non-null   object \n",
      " 4   description  2466 non-null   object \n",
      " 5   url          2474 non-null   object \n",
      " 6   title        2466 non-null   object \n",
      "dtypes: float64(1), object(6)\n",
      "memory usage: 154.6+ KB\n"
     ]
    }
   ],
   "source": [
    "df2.info()"
   ]
  },
  {
   "cell_type": "code",
   "execution_count": 11,
   "id": "df411f5e-2e97-4855-a9ed-fa2f4d7bd245",
   "metadata": {},
   "outputs": [
    {
     "data": {
      "text/plain": [
       "3.9900606305578012"
      ]
     },
     "execution_count": 11,
     "metadata": {},
     "output_type": "execute_result"
    }
   ],
   "source": [
    "df2['rating'].mean()"
   ]
  },
  {
   "cell_type": "code",
   "execution_count": 12,
   "id": "10a0e7a8-c60d-4979-8299-b3ad2222e64f",
   "metadata": {},
   "outputs": [
    {
     "data": {
      "text/plain": [
       "count    2474.000000\n",
       "mean        3.990061\n",
       "std         0.512335\n",
       "min         1.000000\n",
       "25%         3.790000\n",
       "50%         4.000000\n",
       "75%         4.250000\n",
       "max         5.000000\n",
       "Name: rating, dtype: float64"
      ]
     },
     "execution_count": 12,
     "metadata": {},
     "output_type": "execute_result"
    }
   ],
   "source": [
    "df2['rating'].describe()"
   ]
  },
  {
   "cell_type": "code",
   "execution_count": 13,
   "id": "b1427427-d718-4885-95f2-435298e58fc8",
   "metadata": {},
   "outputs": [],
   "source": [
    "pd.set_option('display.max_rows', None)"
   ]
  },
  {
   "cell_type": "code",
   "execution_count": 14,
   "id": "f187d0c4-ba82-482a-a2a7-4e92db143816",
   "metadata": {},
   "outputs": [
    {
     "data": {
      "text/plain": [
       "array([\"['Vanila', 'Madagascar Vanilla', 'Vanilla Absolute']\",\n",
       "       \"['Mint', 'Lavender', 'Nutmeg', 'elemi', 'Cypress', 'Sandalwood', 'Saffron', 'Cypriol Oil or Nagarmotha', 'Amber', 'Patchouli', 'Precious Woods', 'Musk']\",\n",
       "       \"['Neroli', 'Vetiver', 'Basil', 'Fig']\", ...,\n",
       "       \"['Blood Orange', 'Grapefruit', 'Black Pepper', 'cannabis', 'Carnation', 'Ginger', 'Olibanum', 'Agarwood (Oud)', 'Styrax', 'Tobacco', 'Vetiver']\",\n",
       "       \"['Ambrette (Musk Mallow)', 'Sea Salt', 'Mineral notes', 'Sage']\",\n",
       "       \"['Pear', 'Bergamot', 'Black Currant', 'Mandarin Orange', 'Gardenia', 'Cyclamen', 'Rose', 'Musk', 'Sandalwood', 'Iris']\"],\n",
       "      dtype=object)"
      ]
     },
     "execution_count": 14,
     "metadata": {},
     "output_type": "execute_result"
    }
   ],
   "source": [
    "df2['notes'].unique()"
   ]
  },
  {
   "cell_type": "markdown",
   "id": "ae6dc0df-477d-469b-9935-db3fd679114e",
   "metadata": {},
   "source": [
    "### En sık kullanılan notalar"
   ]
  },
  {
   "cell_type": "code",
   "execution_count": 16,
   "id": "b319dc16-82f9-40e5-963b-91ad5f08773a",
   "metadata": {},
   "outputs": [],
   "source": [
    "notes_list = df2['notes'].apply(lambda x: x.split(',')).explode()\n",
    "top_notes = notes_list.value_counts().head(10)"
   ]
  },
  {
   "cell_type": "code",
   "execution_count": 17,
   "id": "1e0291f2-4c79-41a0-9f0c-59f828acbc7f",
   "metadata": {
    "scrolled": true
   },
   "outputs": [
    {
     "data": {
      "text/html": [
       "<div>\n",
       "<style scoped>\n",
       "    .dataframe tbody tr th:only-of-type {\n",
       "        vertical-align: middle;\n",
       "    }\n",
       "\n",
       "    .dataframe tbody tr th {\n",
       "        vertical-align: top;\n",
       "    }\n",
       "\n",
       "    .dataframe thead th {\n",
       "        text-align: right;\n",
       "    }\n",
       "</style>\n",
       "<table border=\"1\" class=\"dataframe\">\n",
       "  <thead>\n",
       "    <tr style=\"text-align: right;\">\n",
       "      <th></th>\n",
       "      <th>rating</th>\n",
       "      <th>notes</th>\n",
       "      <th>designer</th>\n",
       "      <th>reviews</th>\n",
       "      <th>description</th>\n",
       "      <th>url</th>\n",
       "      <th>title</th>\n",
       "    </tr>\n",
       "  </thead>\n",
       "  <tbody>\n",
       "    <tr>\n",
       "      <th>2137</th>\n",
       "      <td>2.50</td>\n",
       "      <td>['Bergamot', 'Lemon', 'Galbanum', 'Violet', 'J...</td>\n",
       "      <td>yves de sistelle perfumes and colognes</td>\n",
       "      <td>['Old Spice lime edition']</td>\n",
       "      <td>Aviator Style by Yves de Sistelle is a Woody f...</td>\n",
       "      <td>https://www.fragrantica.com/perfume/Yves-de-Si...</td>\n",
       "      <td>Aviator Style Yves de Sistelle for men</td>\n",
       "    </tr>\n",
       "    <tr>\n",
       "      <th>799</th>\n",
       "      <td>3.82</td>\n",
       "      <td>['Raspberry', 'Orange', 'Bergamot', 'Orange Bl...</td>\n",
       "      <td>alexandre.j perfumes and colognes</td>\n",
       "      <td>[\"This is just nice. Very feminine and frilly,...</td>\n",
       "      <td>Oscent Pink by Alexandre.J is a Floral Fruity ...</td>\n",
       "      <td>https://www.fragrantica.com/perfume/Alexandre-...</td>\n",
       "      <td>Oscent Pink Alexandre.J for women</td>\n",
       "    </tr>\n",
       "    <tr>\n",
       "      <th>2421</th>\n",
       "      <td>5.00</td>\n",
       "      <td>['Camphor', 'Mint', 'Woody Notes', 'Dried Frui...</td>\n",
       "      <td>maison anthony marmin perfumes and colognes</td>\n",
       "      <td>['Divine!']</td>\n",
       "      <td>Sheikh Al Arabi by Maison Anthony Marmin is a ...</td>\n",
       "      <td>https://www.fragrantica.com/perfume/Maison-Ant...</td>\n",
       "      <td>Sheikh Al Arabi Maison Anthony Marmin for wome...</td>\n",
       "    </tr>\n",
       "    <tr>\n",
       "      <th>2067</th>\n",
       "      <td>5.00</td>\n",
       "      <td>['Cumin', 'Mandarin Orange', 'Jasmine Sambac',...</td>\n",
       "      <td>maison douze perfumes and colognes</td>\n",
       "      <td>[]</td>\n",
       "      <td>A Mort Scorpio by Maison Douze is a fragrance ...</td>\n",
       "      <td>https://www.fragrantica.com/perfume/Maison-Dou...</td>\n",
       "      <td>A Mort Scorpio Maison Douze for women and men</td>\n",
       "    </tr>\n",
       "    <tr>\n",
       "      <th>614</th>\n",
       "      <td>4.18</td>\n",
       "      <td>['Resins', 'Vanilla', 'Oriental notes', 'Citru...</td>\n",
       "      <td>dsh perfumes perfumes and colognes</td>\n",
       "      <td>['Dessert Shalimar. The bergamot is toned down...</td>\n",
       "      <td>Egyptian Shalimar by DSH Perfumes is a Amber f...</td>\n",
       "      <td>https://www.fragrantica.com/perfume/DSH-Perfum...</td>\n",
       "      <td>Egyptian Shalimar DSH Perfumes for women and men</td>\n",
       "    </tr>\n",
       "  </tbody>\n",
       "</table>\n",
       "</div>"
      ],
      "text/plain": [
       "      rating                                              notes  \\\n",
       "2137    2.50  ['Bergamot', 'Lemon', 'Galbanum', 'Violet', 'J...   \n",
       "799     3.82  ['Raspberry', 'Orange', 'Bergamot', 'Orange Bl...   \n",
       "2421    5.00  ['Camphor', 'Mint', 'Woody Notes', 'Dried Frui...   \n",
       "2067    5.00  ['Cumin', 'Mandarin Orange', 'Jasmine Sambac',...   \n",
       "614     4.18  ['Resins', 'Vanilla', 'Oriental notes', 'Citru...   \n",
       "\n",
       "                                         designer  \\\n",
       "2137       yves de sistelle perfumes and colognes   \n",
       "799             alexandre.j perfumes and colognes   \n",
       "2421  maison anthony marmin perfumes and colognes   \n",
       "2067           maison douze perfumes and colognes   \n",
       "614            dsh perfumes perfumes and colognes   \n",
       "\n",
       "                                                reviews  \\\n",
       "2137                         ['Old Spice lime edition']   \n",
       "799   [\"This is just nice. Very feminine and frilly,...   \n",
       "2421                                        ['Divine!']   \n",
       "2067                                                 []   \n",
       "614   ['Dessert Shalimar. The bergamot is toned down...   \n",
       "\n",
       "                                            description  \\\n",
       "2137  Aviator Style by Yves de Sistelle is a Woody f...   \n",
       "799   Oscent Pink by Alexandre.J is a Floral Fruity ...   \n",
       "2421  Sheikh Al Arabi by Maison Anthony Marmin is a ...   \n",
       "2067  A Mort Scorpio by Maison Douze is a fragrance ...   \n",
       "614   Egyptian Shalimar by DSH Perfumes is a Amber f...   \n",
       "\n",
       "                                                    url  \\\n",
       "2137  https://www.fragrantica.com/perfume/Yves-de-Si...   \n",
       "799   https://www.fragrantica.com/perfume/Alexandre-...   \n",
       "2421  https://www.fragrantica.com/perfume/Maison-Ant...   \n",
       "2067  https://www.fragrantica.com/perfume/Maison-Dou...   \n",
       "614   https://www.fragrantica.com/perfume/DSH-Perfum...   \n",
       "\n",
       "                                                  title  \n",
       "2137             Aviator Style Yves de Sistelle for men  \n",
       "799                   Oscent Pink Alexandre.J for women  \n",
       "2421  Sheikh Al Arabi Maison Anthony Marmin for wome...  \n",
       "2067      A Mort Scorpio Maison Douze for women and men  \n",
       "614    Egyptian Shalimar DSH Perfumes for women and men  "
      ]
     },
     "execution_count": 17,
     "metadata": {},
     "output_type": "execute_result"
    }
   ],
   "source": [
    "df2.sample(5)"
   ]
  },
  {
   "cell_type": "markdown",
   "id": "603c031c-3e45-4a21-b0c5-f8f7f6ef85bf",
   "metadata": {},
   "source": [
    "### En Popüler Tasarımcılar"
   ]
  },
  {
   "cell_type": "code",
   "execution_count": 19,
   "id": "eff6b841-d7d9-4a7d-8911-d1d1c03a8b9b",
   "metadata": {},
   "outputs": [],
   "source": [
    "designer_counts = df2['designer'].value_counts().head(10)"
   ]
  },
  {
   "cell_type": "markdown",
   "id": "fda6aa01-d6df-41c2-83a0-668ecba5a3de",
   "metadata": {},
   "source": [
    "### Öncelikle parfümleri unisex, erkek ve kadın olarak sınıflandıralım"
   ]
  },
  {
   "cell_type": "code",
   "execution_count": 21,
   "id": "9c3ad6a3-102a-4b62-83c4-d429bf0b1de2",
   "metadata": {},
   "outputs": [],
   "source": [
    "def categorize_fragrance(title):\n",
    "    if pd.isna(title):\n",
    "        return \"Bilinmiyor\"\n",
    "    title_lower = title.lower()\n",
    "    if \"for women and men\" in title_lower or \"for men and women\" in title_lower:\n",
    "        return \"Unisex\"\n",
    "    elif \"for women\" in title_lower:\n",
    "        return \"Kadın\"\n",
    "    elif \"for men\" in title_lower:\n",
    "        return \"Erkek\"\n",
    "    else:\n",
    "        return \"Bilinmiyor\""
   ]
  },
  {
   "cell_type": "code",
   "execution_count": 22,
   "id": "3d57bb6f-a70f-400e-8534-d3793d2a0584",
   "metadata": {},
   "outputs": [],
   "source": [
    "df2['category'] = df2['title'].apply(categorize_fragrance)"
   ]
  },
  {
   "cell_type": "code",
   "execution_count": 23,
   "id": "091978b7-3904-4b64-978a-88dadce24044",
   "metadata": {},
   "outputs": [],
   "source": [
    "category_counts = df2['category'].value_counts()"
   ]
  },
  {
   "cell_type": "markdown",
   "id": "716a725f-8322-4415-99a4-035845501471",
   "metadata": {},
   "source": [
    "### En yüksek puanlı parfümleri bulalım\n",
    "### En iyi 10 parfüm"
   ]
  },
  {
   "cell_type": "code",
   "execution_count": 25,
   "id": "e2d474cd-b5ae-49e8-b221-11e860c79ee4",
   "metadata": {
    "scrolled": true
   },
   "outputs": [
    {
     "name": "stdout",
     "output_type": "stream",
     "text": [
      "Vanilla Scent Fiorucci for women and men - Rating: 5.0 - Marka: fiorucci perfumes and colognes\n",
      "Satori Fusho Organic Oud Ensar Oud for women and men - Rating: 5.0 - Marka: ensar oud perfumes and colognes\n",
      "Eau de Parfum Baies Exquises Durance en Provence for women and men - Rating: 5.0 - Marka: durance en provence perfumes and colognes\n",
      "Amuro 7 Dzintars for women - Rating: 5.0 - Marka: dzintars perfumes and colognes\n",
      "Горная фиалка (Mountain violet) Flora for women - Rating: 5.0 - Marka: flora perfumes and colognes\n",
      "Sky Blue Novae Plus for women - Rating: 5.0 - Marka: novae plus perfumes and colognes\n",
      "Orris TEAsense 鸢尾岩茶 Mobius Fragrances 莫比乌斯 for women and men - Rating: 5.0 - Marka: mobius fragrances 莫比乌斯 perfumes and colognes\n",
      "Legend FA'RA for men - Rating: 5.0 - Marka: fa'ra perfumes and colognes\n",
      "Queen In The War Prince War for women - Rating: 5.0 - Marka: prince war perfumes and colognes\n",
      "Un Baiser sur le Pont Neuf Condensé Paris for women and men - Rating: 5.0 - Marka: condensé paris perfumes and colognes\n"
     ]
    }
   ],
   "source": [
    "top_fragrances = df2.sort_values('rating', ascending=False).head(10)\n",
    "for idx, row in top_fragrances.iterrows():\n",
    "    print(f\"{row['title']} - Rating: {row['rating']} - Marka: {row['designer']}\")"
   ]
  },
  {
   "cell_type": "markdown",
   "id": "0af8fcd8-4113-4173-986c-f7daaa7ef437",
   "metadata": {},
   "source": [
    "### Parfüm Notalarını Çıkarma ve Analiz Etme"
   ]
  },
  {
   "cell_type": "code",
   "execution_count": 27,
   "id": "2e8d45fc-fdd8-4546-8974-5703faf3a218",
   "metadata": {},
   "outputs": [],
   "source": [
    "import ast\n",
    "from collections import Counter\n",
    "\n",
    "# String olarak saklanan notaları gerçek liste haline dönüştüren fonksiyon\n",
    "def extract_notes(notes_str):\n",
    "    if pd.isna(notes_str):\n",
    "        return []\n",
    "    try:\n",
    "        if isinstance(notes_str, str) and (notes_str.startswith('[') or notes_str.startswith('[')):\n",
    "            return ast.literal_eval(notes_str)\n",
    "        else:\n",
    "            return [notes_str]  # Eğer liste değilse, tek elemanlı liste olarak döndür\n",
    "    except:\n",
    "        return []"
   ]
  },
  {
   "cell_type": "code",
   "execution_count": 28,
   "id": "842aa662-adc2-483e-b0a5-da76da26c432",
   "metadata": {},
   "outputs": [
    {
     "name": "stdout",
     "output_type": "stream",
     "text": [
      "\n",
      "En Popüler 20 Parfüm Notu:\n",
      "Musk: 942 kez kullanılmış\n",
      "Amber: 694 kez kullanılmış\n",
      "Jasmine: 660 kez kullanılmış\n",
      "Bergamot: 657 kez kullanılmış\n",
      "Sandalwood: 646 kez kullanılmış\n",
      "Vanilla: 595 kez kullanılmış\n",
      "Patchouli: 559 kez kullanılmış\n",
      "Rose: 559 kez kullanılmış\n",
      "Cedar: 446 kez kullanılmış\n",
      "Vetiver: 313 kez kullanılmış\n",
      "Mandarin Orange: 297 kez kullanılmış\n",
      "Tonka Bean: 259 kez kullanılmış\n",
      "Lavender: 251 kez kullanılmış\n",
      "Lemon: 239 kez kullanılmış\n",
      "Orange Blossom: 211 kez kullanılmış\n",
      "Lily-of-the-Valley: 201 kez kullanılmış\n",
      "Cardamom: 190 kez kullanılmış\n",
      "Pink Pepper: 190 kez kullanılmış\n",
      "Violet: 187 kez kullanılmış\n",
      "Iris: 176 kez kullanılmış\n"
     ]
    }
   ],
   "source": [
    "# Notları çıkaralım\n",
    "df2['notes_list'] = df2['notes'].apply(extract_notes)\n",
    "\n",
    "# Tüm notları düzleştir ve en popüler notları bul\n",
    "all_notes = []\n",
    "for notes in df2['notes_list']:\n",
    "    all_notes.extend(notes)\n",
    "\n",
    "# En popüler 20 notayı bul\n",
    "most_common_notes = Counter(all_notes).most_common(20)\n",
    "print(\"\\nEn Popüler 20 Parfüm Notu:\")\n",
    "for note, count in most_common_notes:\n",
    "    print(f\"{note}: {count} kez kullanılmış\")"
   ]
  },
  {
   "cell_type": "markdown",
   "id": "a7afb0ca-277d-4e04-9705-9ceabe5156f0",
   "metadata": {},
   "source": [
    "### Kategorilere göre ortalama puanları hesaplayalım"
   ]
  },
  {
   "cell_type": "code",
   "execution_count": 30,
   "id": "6da5401b-4811-492c-8ccd-e0e068b3bd56",
   "metadata": {
    "scrolled": true
   },
   "outputs": [],
   "source": [
    "avg_rating_by_category = df2.groupby('category')['rating'].mean()"
   ]
  },
  {
   "cell_type": "markdown",
   "id": "e7afd406-8c74-4333-a2e4-ab6018676833",
   "metadata": {},
   "source": [
    "### Yorumların duygu analizi"
   ]
  },
  {
   "cell_type": "code",
   "execution_count": 32,
   "id": "e7dc7996-51a6-4995-8133-2d279c4c15c3",
   "metadata": {},
   "outputs": [],
   "source": [
    "from textblob import TextBlob\n",
    "import numpy as np\n",
    "\n",
    "# Yorumları çıkaran fonksiyon\n",
    "def extract_reviews(reviews_str):\n",
    "    if pd.isna(reviews_str):\n",
    "        return []\n",
    "    try:\n",
    "        if isinstance(reviews_str, str) and (reviews_str.startswith('[') or reviews_str.startswith('[')):\n",
    "            return ast.literal_eval(reviews_str)\n",
    "        else:\n",
    "            return [reviews_str]\n",
    "    except:\n",
    "        return []\n",
    "\n",
    "# Yorumları çıkaralım\n",
    "df2['reviews_list'] = df2['reviews'].apply(extract_reviews)"
   ]
  },
  {
   "cell_type": "code",
   "execution_count": 33,
   "id": "4db54399-4902-4a0e-9967-e4534b747db5",
   "metadata": {},
   "outputs": [
    {
     "name": "stdout",
     "output_type": "stream",
     "text": [
      "\n",
      "Duygu Skoru ve Puan Arasındaki Korelasyon:\n",
      "Korelasyon: 0.1555\n"
     ]
    }
   ],
   "source": [
    "# Her parfüm için duygu skoru hesaplayan fonksiyon\n",
    "def calculate_sentiment(reviews):\n",
    "    if not reviews:\n",
    "        return np.nan\n",
    "    \n",
    "    total_sentiment = 0\n",
    "    for review in reviews:\n",
    "        if review and isinstance(review, str):\n",
    "            blob = TextBlob(review)\n",
    "            total_sentiment += blob.sentiment.polarity\n",
    "    \n",
    "    return total_sentiment / len(reviews) if reviews else np.nan\n",
    "\n",
    "# Duygu skorlarını hesaplayalım\n",
    "df2['sentiment_score'] = df2['reviews_list'].apply(calculate_sentiment)\n",
    "\n",
    "# Duygu skorları ve puanlar arasındaki ilişkiyi inceleyelim\n",
    "correlation = df2['sentiment_score'].corr(df2['rating'])\n",
    "print(\"\\nDuygu Skoru ve Puan Arasındaki Korelasyon:\")\n",
    "print(f\"Korelasyon: {correlation:.4f}\")"
   ]
  },
  {
   "cell_type": "markdown",
   "id": "ac2b88d9-8085-4cdb-b693-99a685743f84",
   "metadata": {},
   "source": [
    "### En olumlu yorumlara sahip 5 parfümü bul"
   ]
  },
  {
   "cell_type": "code",
   "execution_count": 35,
   "id": "425ab265-acb6-4d94-918c-d74bfe5aeebd",
   "metadata": {},
   "outputs": [
    {
     "name": "stdout",
     "output_type": "stream",
     "text": [
      "\n",
      "En Olumlu Yorumlara Sahip 5 Parfüm:\n",
      "Kyoto by Night Proad for women and men - Sentiment: 1.0000 - Rating: 4.5\n",
      "Cardamom & Vanilla Blue Scents for men - Sentiment: 1.0000 - Rating: 4.75\n",
      "Bogner Woman No.1 Summer Edition Bogner for women - Sentiment: 0.7800 - Rating: 4.2\n",
      "Spot Sunset for Him Hinode for men - Sentiment: 0.7500 - Rating: 3.67\n",
      "From Zara With Love Summer Edition Zara for women - Sentiment: 0.7201 - Rating: 3.91\n"
     ]
    }
   ],
   "source": [
    "top_positive = df2.sort_values('sentiment_score', ascending=False).head(5)\n",
    "print(\"\\nEn Olumlu Yorumlara Sahip 5 Parfüm:\")\n",
    "for idx, row in top_positive.iterrows():\n",
    "    print(f\"{row['title']} - Sentiment: {row['sentiment_score']:.4f} - Rating: {row['rating']}\")"
   ]
  },
  {
   "cell_type": "markdown",
   "id": "bc509d9a-8c9a-4e45-a035-8827ca4e2ecd",
   "metadata": {},
   "source": [
    "### En olumsuz yorumlara sahip 5 parfümü bul"
   ]
  },
  {
   "cell_type": "code",
   "execution_count": 37,
   "id": "69d4c285-2690-48c8-a376-0e7e83fc5165",
   "metadata": {},
   "outputs": [
    {
     "name": "stdout",
     "output_type": "stream",
     "text": [
      "\n",
      "En Olumsuz Yorumlara Sahip 5 Parfüm:\n",
      "Muskara Vetiveria Fueguia 1833 for women and men - Sentiment: -0.8750 - Rating: 3.7\n",
      "No. 4 FL Parfums for men - Sentiment: -0.8500 - Rating: 3.5\n",
      "Caliente Perfume A Wing & A Prayer Perfumes for women and men - Sentiment: -0.7000 - Rating: 4.0\n",
      "800 Black Zara for men - Sentiment: -0.5250 - Rating: 4.0\n",
      "Acqua Di Parisis Roma Reyane Tradition for men - Sentiment: -0.5107 - Rating: 3.0\n"
     ]
    }
   ],
   "source": [
    "top_negative = df2.sort_values('sentiment_score').head(5)\n",
    "print(\"\\nEn Olumsuz Yorumlara Sahip 5 Parfüm:\")\n",
    "for idx, row in top_negative.iterrows():\n",
    "    print(f\"{row['title']} - Sentiment: {row['sentiment_score']:.4f} - Rating: {row['rating']}\")"
   ]
  },
  {
   "cell_type": "markdown",
   "id": "63902e81-ba8d-4fbe-81f7-4b3dab0e1af8",
   "metadata": {},
   "source": [
    "### Öneri sistemi oluşturalım"
   ]
  },
  {
   "cell_type": "code",
   "execution_count": 39,
   "id": "e1f3ed05-445f-4659-97cf-afc6ba7e8013",
   "metadata": {},
   "outputs": [],
   "source": [
    "from sklearn.feature_extraction.text import TfidfVectorizer\n",
    "from sklearn.metrics.pairwise import cosine_similarity\n",
    "\n",
    "# Parfüm notlarını birleştiren fonksiyon\n",
    "def create_notes_string(notes_list):\n",
    "    if not notes_list:\n",
    "        return \"\"\n",
    "    return \" \".join(notes_list)\n",
    "\n",
    "# Notları birleştir\n",
    "df2['notes_string'] = df2['notes_list'].apply(create_notes_string)\n",
    "\n",
    "# Açıklamaları ve notları birleştirerek özellik vektörü oluştur\n",
    "df2['features'] = df2['notes_string'] + \" \" + df2['description'].fillna(\"\")\n",
    "\n",
    "# TF-IDF vektörizasyon uygulayalım\n",
    "tfidf = TfidfVectorizer(stop_words='english')\n",
    "tfidf_matrix = tfidf.fit_transform(df2['features'])\n",
    "\n",
    "# Kosinüs benzerlik matrisi oluştur\n",
    "cosine_sim = cosine_similarity(tfidf_matrix, tfidf_matrix)\n"
   ]
  },
  {
   "cell_type": "code",
   "execution_count": 40,
   "id": "6b1fae00-c39f-4b18-9521-87a83d0baa08",
   "metadata": {},
   "outputs": [],
   "source": [
    "# Bir parfüm için benzer parfümleri öneren fonksiyon\n",
    "def get_recommendations(title, cosine_sim=cosine_sim):\n",
    "    try:\n",
    "        # Parfümün indeksini bul\n",
    "        idx = df2[df2['title'] == title].index[0]\n",
    "        \n",
    "        # Benzerlik skorlarını al\n",
    "        sim_scores = list(enumerate(cosine_sim[idx]))\n",
    "        \n",
    "        # Benzerlik skorlarına göre sıralayalım\n",
    "        sim_scores = sorted(sim_scores, key=lambda x: x[1], reverse=True)\n",
    "        \n",
    "        # En benzer 5 parfümü alalım (kendisi hariç)\n",
    "        sim_scores = sim_scores[1:6]\n",
    "        \n",
    "        # Parfüm indekslerini al\n",
    "        fragrance_indices = [i[0] for i in sim_scores]\n",
    "        \n",
    "        # Sonuçları döndürelim\n",
    "        result = pd.DataFrame({\n",
    "            'title': df2['title'].iloc[fragrance_indices].values,\n",
    "            'designer': df2['designer'].iloc[fragrance_indices].values,\n",
    "            'similarity': [i[1] for i in sim_scores],\n",
    "            'rating': df2['rating'].iloc[fragrance_indices].values\n",
    "        })\n",
    "        \n",
    "        return result\n",
    "    except:\n",
    "        return \"Parfüm bulunamadı veya öneri oluşturulamadı.\"\n"
   ]
  },
  {
   "cell_type": "code",
   "execution_count": 64,
   "id": "b8902f0d-09a1-4ce5-8c16-a3d76f83f29f",
   "metadata": {},
   "outputs": [
    {
     "name": "stdout",
     "output_type": "stream",
     "text": [
      "['Vanilla Scent Fiorucci for women and men'\n",
      " 'Shady Maiora Parfum for women and men'\n",
      " 'Nerolia Vetiver Guerlain for women and men' ...\n",
      " 'REMA Filigree & Shadow for women and men'\n",
      " 'Wood Sage & Sea Salt Cologne Jo Malone London for women and men'\n",
      " 'Passenger for Women S.T. Dupont for women']\n"
     ]
    }
   ],
   "source": [
    "print(df2['title'].unique())"
   ]
  },
  {
   "cell_type": "code",
   "execution_count": 66,
   "id": "48aa4b29-9d61-4a08-9b25-64c0361a5a45",
   "metadata": {},
   "outputs": [
    {
     "name": "stdout",
     "output_type": "stream",
     "text": [
      "\n",
      "'Vanilla Scent Fiorucci for women and men' için Benzer Parfüm Önerileri:\n",
      "                                         title  \\\n",
      "0           Mistura Aquaflor Firenze for women   \n",
      "1  Vanilla Incense CJ Scents for women and men   \n",
      "2          Vanille (Vanilla) Sephora for women   \n",
      "3                        Scent #4 Zara for men   \n",
      "4     Vanilla Vibes Birkholz for women and men   \n",
      "\n",
      "                                 designer  similarity  rating  \n",
      "0  aquaflor firenze perfumes and colognes    0.440961    4.00  \n",
      "1         cj scents perfumes and colognes    0.339379    4.50  \n",
      "2           sephora perfumes and colognes    0.306996    4.04  \n",
      "3              zara perfumes and colognes    0.294706    3.75  \n",
      "4          birkholz perfumes and colognes    0.290366    3.90  \n"
     ]
    }
   ],
   "source": [
    "# Örnek bir parfüm için öneriler al\n",
    "sample_fragrance = \"Vanilla Scent Fiorucci for women and men\"  # Veya başka bir parfüm adı\n",
    "recommendations = get_recommendations(sample_fragrance)\n",
    "\n",
    "# Önerileri yazdır\n",
    "print(f\"\\n'{sample_fragrance}' için Benzer Parfüm Önerileri:\")\n",
    "print(recommendations)"
   ]
  },
  {
   "cell_type": "markdown",
   "id": "e9007e83-135d-40cb-b47d-fa59bcd13826",
   "metadata": {},
   "source": [
    "### En popüler markaları bul"
   ]
  },
  {
   "cell_type": "code",
   "execution_count": 43,
   "id": "bda7f154-1c67-49ec-8365-fca60c9b992e",
   "metadata": {},
   "outputs": [
    {
     "name": "stdout",
     "output_type": "stream",
     "text": [
      "\n",
      "En Popüler 10 Parfüm Markası:\n",
      "designer\n",
      "avon perfumes and colognes                 48\n",
      "zara perfumes and colognes                 32\n",
      "bath & body works perfumes and colognes    24\n",
      "the dua brand perfumes and colognes        20\n",
      "natura perfumes and colognes               18\n",
      "victoria's secret perfumes and colognes    18\n",
      "rasasi perfumes and colognes               16\n",
      "alkemia perfumes perfumes and colognes     15\n",
      "dzintars perfumes and colognes             14\n",
      "givenchy perfumes and colognes             12\n",
      "Name: count, dtype: int64\n"
     ]
    }
   ],
   "source": [
    "brand_counts = df2['designer'].value_counts().head(10)\n",
    "print(\"\\nEn Popüler 10 Parfüm Markası:\")\n",
    "print(brand_counts)"
   ]
  },
  {
   "cell_type": "code",
   "execution_count": 45,
   "id": "0474b32b-fedd-4ae7-a5af-9be391363360",
   "metadata": {},
   "outputs": [],
   "source": [
    "# Nota ailelerini tanımlayalım\n",
    "note_families = {\n",
    "    'çiçeksi': [\n",
    "        'Rose', 'Jasmine', 'Lavender', 'Tuberose', 'Orange Blossom', 'Ylang-Ylang', 'Narcissus',\n",
    "        'African Orange Flower', 'Lotus', 'Carnation', 'Lily', 'Water Lily', 'Wisteria', 'Orchid',\n",
    "        'Cyclamen', 'Cherry Blossom', 'Apple Blossom', 'Tunisian Neroli', 'Black Rose', 'Damask Rose',\n",
    "        'Rose de Mai', 'Turkish Rose', 'Egyptian Jasmine', 'White Rose', 'Green Mandarin', 'White Flowers',\n",
    "        'Rose Petals', 'Mirabelle', 'Acácia', 'White Mimosa', 'Vanilla Flower', 'Tiare Flower', 'Wild Lavender',\n",
    "        'Jasmine Tea', 'Passion Flower', 'Wisteria Flower', 'French Rose', 'White Lily', 'Heather',\n",
    "        'Rose Water', 'Night Blooming Jasmine', 'Red Rose', 'Orange Blossom Absolute', 'Blood Orange',\n",
    "        'White Grapefruit', 'Moroccan Jasmine', 'Lily of the Valley', 'Lime (Linden) Blossom',\n",
    "        'Petitgrain Paraguay', 'Neroli Essence', 'Camelia', 'Wild Jasmine', 'Black Locust', 'Damask Plum',\n",
    "        'Star Jasmine', 'Black Currant Blossom', 'Marigold', 'Almond Blossom', 'Plumeria', 'Frangipani', 'Sweet Pea',\n",
    "        'Wild Rose', 'Neroli', 'Geranium', 'Violet', 'Iris', 'Freesia', 'Gardenia', 'Peony', 'Magnolia', 'Lilac',\n",
    "        'Hibiscus', 'Chamomile', 'Honeysuckle', 'Daffodil', 'Sakura', 'Poppy', 'Tulip', 'Hyacinth', \n",
    "        'Lotus Flower', 'Sunflower', 'Meadow Flowers', 'Floral Notes'\n",
    "    ],\n",
    "    'odunsu': [\n",
    "        'Cedar', 'Sandalwood', 'Patchouli', 'Vetiver', 'Pine', 'Fir', 'Virginia Cedar', 'Woody Notes', 'Oakmoss',\n",
    "        'Atlas Cedar', 'Guaiac Wood', 'Palo Santo', 'Teak Wood', 'Hinoki', 'White Sandalwood', 'Mahogany',\n",
    "        'Cedarmoss', 'Virginian Cedar', 'Brazilian Rosewood', 'Palisander Rosewood', 'Ebony Wood', 'Birch',\n",
    "        'Agarwood (Oud)', 'Cashmere Wood', 'Brazilian Sandalwood', 'Red Cedar', 'Siberian Pine',\n",
    "        'Cedarwood', 'Oud', 'Oak', 'Driftwood', 'Cedar Wood'\n",
    "    ],\n",
    "    'baharatlı': [\n",
    "        'Cinnamon', 'Black Pepper', 'Nutmeg', 'Ginger', 'Cardamom', 'Saffron', 'Pink Pepper', 'Black Mustard',\n",
    "        'Allspice', 'Bay Leaf', 'Black Mustard', 'White Pepper', 'Cinammon', 'Caraway', 'Sichuan Pepper',\n",
    "        'Ceylon Cinnamon', 'Cumin', 'Madagascar Cloves', 'Caraway', 'Anise', 'Clove', 'Pepper', 'Spicy Notes',\n",
    "        'Aromatic Spices', 'Thyme', 'Marjoram', 'Oregano', 'Spices', 'Star Anise', 'Fennel', 'Juniper Berries',\n",
    "        'Paprika', 'Turmeric', 'Cloves', 'Coriander Seed'\n",
    "    ],\n",
    "    'meyveli': [\n",
    "        'Pineapple', 'Citrus', 'Grapefruit', 'Strawberry', 'Raspberry', 'Pear', 'Bergamot', 'Mandarin Orange',\n",
    "        'Black Currant', 'Lemon', 'Orange', 'Peach', 'Apple', 'Plum', 'Watermelon', 'White Peach', 'Blueberry',\n",
    "        'Red Berries', 'Red Currant', 'Kiwi', 'Sour Cherry', 'Green Apple', 'Red Fruits', 'Red Apple', 'Clementine',\n",
    "        'Tayberry', 'Kumquat', 'Green Mango', 'Chinese Osmanthus', 'Pear Blossom', 'Gooseberry', 'Passionfruit',\n",
    "        'Plum', 'Tropical Fruits', 'Exotic Fruits', 'Guava', 'Mango', 'Indian Tuberose', 'Coconut Milk',\n",
    "        'Coconut Water', 'Persimmon', 'Tiare Flower', 'Black Currant Leaf', 'Mirabelle', 'Bilberry',\n",
    "        'Goji Berries', 'Lychee', 'Cranberry', 'Wild Berries', 'Lychee', 'Quince', 'Carambola (Star Fruit)',\n",
    "        'Cherry', 'Pomegranate', 'Apricot', 'Nectarine', 'Fig', 'Date', 'Papaya', 'Pineapple', 'Banana',\n",
    "        'Tangerine', 'Blackberry', 'Rhubarb', 'Passion Fruit', 'Dragon Fruit', 'Mulberry'\n",
    "    ],\n",
    "    'amberli': [\n",
    "        'Amber', 'Vanilla', 'Tonka Bean', 'Musk', 'Benzoin', 'Myrrh', 'Ambrette (Musk Mallow)', 'Bourbon Vanilla',\n",
    "        'Madagascar Vanilla', 'Vanilla Absolute', 'Ambergris', 'Opoponax', 'Castoreum', 'Vanilla Sugar',\n",
    "        'White Amber', 'Ambreine', 'Resins', 'Patchouli', 'Vanilla Pod', 'Tahitian Vanilla', 'Mexican Vanilla',\n",
    "        'Civet', 'Golden Amber', 'Black Amber', 'Amber Wood'\n",
    "    ],\n",
    "    'yeşil': [\n",
    "        'Green Tea', 'Basil', 'Lemongrass', 'Galbanum', 'Cypress', 'Grass', 'Bamboo', 'Green Notes', 'Green Leaves',\n",
    "        'Green Grass', 'Tagetes', 'Wild Grass', 'Hay', 'Rosebay Willowherb', 'Tomato Leaf', 'Lime Leaf',\n",
    "        'Green Pear', 'Green Mandarin', 'Petitgrain', 'Green Sap', 'Bamboo Leaf', 'Algae', 'Watercress',\n",
    "        'Green Accord', 'Mint', 'Green Notes', 'Clover', 'Ivy', 'Fig Leaf', 'Cucumber', 'Green Apple', 'Fern',\n",
    "        'Violet Leaf', 'Spearmint', 'Peppermint', 'Eucalyptus', 'Artemisia', 'Absinthe', 'Vetiver', 'Oakmoss'\n",
    "    ],\n",
    "    'kuruyemiş': [\n",
    "        'Almond', 'Pistachio', 'Hazelnut', 'Sweet Almond', 'Bitter Almond', 'Almond Milk', 'Chestnut',\n",
    "        'Walnut', 'Cashew', 'Macadamia', 'Peanut', 'Pecan', 'Coconut', 'Pine Nut'\n",
    "    ],\n",
    "    'sitrus': [\n",
    "        'Lemon', 'Orange', 'Lime', 'Tangerine', 'Amalfi Lemon', 'Grapefruit', 'Sicilian Lemon', 'Blood Orange',\n",
    "        'Pomelo', 'Citron', 'Sicilian Citrus', 'Kumquat', 'Italian Lemon', 'Lemon Blossom', 'Sicilian Mandarin',\n",
    "        'Italian Orange', 'Citruses', 'Lemon Verbena', 'Yuzu', 'Lemon Zest', 'Lemon Balm', 'Bergamot', 'Lime Blossom',\n",
    "        'Mandarin Blossom', 'Lime Leaf', 'Citrus Leaf', 'Orange Peel', 'Lemon Leaf', 'Orange Tree', 'Citrus',\n",
    "        'Mandarin Orange', 'Neroli', 'Bergamot'\n",
    "    ],\n",
    "    'deniz_su': [\n",
    "        'Sea Notes', 'Water Notes', 'Sea water', 'Watery Notes', 'Algae', 'Salt', 'Seaweed', 'Sea Salt',\n",
    "        'Marine notes', 'Aquatic Notes', 'Ocean', 'Beach', 'Coastal Air', 'Mineral Water', 'Fresh Water'\n",
    "    ],\n",
    "    'şekerli_tatlı': [\n",
    "        'Whipped Cream', 'Licorice', 'Cacao', 'Mulled Wine', 'Beeswax', 'Candy Apple', 'Cotton Candy',\n",
    "        'Brown Sugar', 'Toffee', 'Caramel', 'Sorbet', 'Spun Sugar', 'Praline', 'Cupcake', 'Rice Pudding',\n",
    "        'Marshmallow', 'Vanilla Sugar', 'Carambola (Star Fruit)', 'Dark Chocolate', 'Milk', 'Butter',\n",
    "        'Honey', 'Maple Syrup', 'Condensed Milk', 'Milk Chocolate', 'Sugar', 'Marshmallow', 'Turkish Delight',\n",
    "        'Cream', 'White Chocolate', 'Tiramisu', 'Crème Brûlée', 'Nougat', 'Macaroon', 'Pastry', 'Marzipan'\n",
    "    ],\n",
    "    'otlu_aromatik': [\n",
    "        'Clary Sage', 'Chamomile', 'Verbena', 'Artemisia', 'Elemi', 'Rhubarb', 'Sage', 'Rosemary', 'Labdanum',\n",
    "        'Thyme', 'Cumin', 'Oregano', 'Green Pepper', 'Parsley', 'Marjoram', 'Coriander', 'Hyssop', 'Marigold',\n",
    "        'Basil', 'Peppermint', 'Sage', 'Mint', 'Tarragon', 'Dill', 'Cilantro', 'Fennel', 'Angelica', 'Anise',\n",
    "        'Lavender', 'Bay Leaf', 'Laurel', 'Juniper', 'Basil'\n",
    "    ],\n",
    "    'içki': [\n",
    "        'Whiskey', 'Rum', 'Gin', 'Champagne', 'Cognac', 'Liquor', 'Vodka', 'Blue Margarita', 'Brandy',\n",
    "        'Limoncello', 'Amaretto', 'Wine Lees', 'Beer', 'Sake', 'Bourbon', 'Scotch', 'Red Wine', 'White Wine',\n",
    "        'Port Wine', 'Tequila', 'Absinthe', 'Calvados', 'Vermouth'\n",
    "    ],\n",
    "    'reçineli_balsamlı': [\n",
    "        'Peru Balsam', 'Benzoin', 'Myrrh', 'Tolu Balsam', 'Copaiba balm', 'Elemi resin', 'Balsam Fir',\n",
    "        'Somalian Opoponax', 'Gurjan Balsam', 'Frankincense', 'Opium', 'Pine Tar', 'Spruce', 'Ambergris',\n",
    "        'Resin', 'Styrax', 'Olibanum', 'Labdanum', 'Dragon\\'s Blood', 'Canadian Balsam', 'Mastic',\n",
    "        'Siam Benzoin', 'Poplar Bud', 'Balsam', 'Resins'\n",
    "    ],\n",
    "    'deri': [\n",
    "        'Leather', 'Black Leather', 'Russian Leather', 'Suede', 'Suede Leather', 'Skin', 'Nubuck',\n",
    "        'Vintage Leather', 'White Leather', 'Tanned Leather'\n",
    "    ],\n",
    "    'tütsü': [\n",
    "        'Incense', 'Olibanum', 'Kyara Incense', 'Frankincense', 'Myrrh', 'Oud Incense', 'Church Incense',\n",
    "        'Nag Champa', 'Japanese Incense', 'Arabian Incense', 'Tibetan Incense'\n",
    "    ],\n",
    "    'ağaç': [\n",
    "        'Bamboo', 'Palm Tree', 'Brazilian Rosewood', 'Palisander Rosewood', 'Ebony Wood', 'Birch', 'Hinoki',\n",
    "        'Oak', 'Wood', 'Sandalwood', 'Oud Wood', 'Palo Santo', 'Driftwood', 'Teak', 'Maple', 'Cypress',\n",
    "        'Juniper', 'Cedarwood', 'Pine'\n",
    "    ],\n",
    "    'sentetik': [\n",
    "        'Aldehydes', 'Iso E Super', 'Ozonic notes', 'Concrete', 'Cashmeran', 'Metallic notes', 'Mineral notes',\n",
    "        'Powdery Notes', 'Animal notes', 'Ambroxan', 'Calone', 'Ambrette', 'Synthetic Musk', 'Hedione', \n",
    "        'Javanol', 'Galaxolide', 'Amyl Salicylate', 'Norlimbanol', 'Dihydromyrcenol'\n",
    "    ],\n",
    "    'kahve_çay': [\n",
    "        'Coffee', 'Coffee Bean', 'Espresso', 'Black Tea', 'Green Tea', 'Earl Grey Tea', 'White Tea', 'Matcha',\n",
    "        'Oolong Tea', 'Chai', 'Mate', 'Roasted Coffee'\n",
    "    ],\n",
    "    'tütün': [\n",
    "        'Tobacco', 'Tobacco Leaf', 'Pipe Tobacco', 'Blonde Tobacco', 'Cigar', 'Hookah Tobacco', 'Cigarette',\n",
    "        'Virginia Tobacco', 'Turkish Tobacco', 'Tobacco Flower'\n",
    "    ]\n",
    "}"
   ]
  },
  {
   "cell_type": "code",
   "execution_count": 47,
   "id": "affecba5-e817-4df3-b08b-fcda4ec9ffd0",
   "metadata": {},
   "outputs": [],
   "source": [
    "# Nota sütunundaki string listeleri gerçek listelere dönüştürelim\n",
    "def extract_notes(notes_str):\n",
    "    if pd.isna(notes_str):\n",
    "        return []\n",
    "    try:\n",
    "        return ast.literal_eval(notes_str) if isinstance(notes_str, str) else [notes_str]\n",
    "    except:\n",
    "        return []\n",
    "\n",
    "# Notaları gerçek liste haline dönüştürme\n",
    "df2['notes_list'] = df2['notes'].apply(extract_notes)\n",
    "\n",
    "# Nota ailelerine göre sınıflandırma yapalım\n",
    "def categorize_note(note):\n",
    "    for family, notes in note_families.items():\n",
    "        if note in notes:\n",
    "            return family\n",
    "    return \"Diğer\"\n",
    "\n",
    "# Notaları nota ailelerine göre sınıflandırma yapalım\n",
    "df2['note_family'] = df2['notes_list'].apply(lambda x: [categorize_note(note) for note in x])\n",
    "\n",
    "# \"Diğer\" kategorisindeki önemli notaları yeni kategorilere ekleyelim\n",
    "note_families['meyveli'] += ['Pear', 'Green Apple', 'Mirabelle']\n",
    "note_families['içki'] += ['Cognac', 'Wine']\n",
    "note_families['reçineli_balsamlı'] += ['Balsam', 'Resins']\n",
    "note_families['yeşil'] += ['Vetiver', 'Oakmoss']"
   ]
  },
  {
   "cell_type": "code",
   "execution_count": 48,
   "id": "d65f6f03-7bc2-46b1-bd92-ddadc807b86f",
   "metadata": {},
   "outputs": [],
   "source": [
    "# Gelişmiş nota analizi fonksiyonu\n",
    "def advanced_note_analysis(df):\n",
    "    # Nota ailelerinin yüzdelik dağılımı\n",
    "    family_dist = df['note_family'].explode().value_counts(normalize=True).mul(100)\n",
    "    \n",
    "    # Parfüm başına düşen ortalama nota ailesi sayısı\n",
    "    avg_families_per_perfume = df['note_family'].apply(len).mean()\n",
    "    \n",
    "    # En popüler kombinasyonlar\n",
    "    combo_counts = Counter()\n",
    "    for fam in df['note_family']:\n",
    "        for r in range(2, 4):\n",
    "            combo_counts.update(combinations(sorted(fam), r))\n",
    "    \n",
    "    # Rating ilişkisi\n",
    "    family_ratings = {}\n",
    "    for family in note_families:\n",
    "        mask = df['note_family'].apply(lambda x: family in x)\n",
    "        family_ratings[family] = df[mask]['rating'].mean()\n",
    "    \n",
    "    return family_dist, avg_families_per_perfume, combo_counts, family_ratings\n",
    "\n",
    "# Gelişmiş analizi çalıştır\n",
    "family_dist, avg_count, combos, ratings = advanced_note_analysis(df2)"
   ]
  },
  {
   "cell_type": "code",
   "execution_count": 49,
   "id": "f56d31eb-69c3-4470-bc1d-f9ac4708ce8e",
   "metadata": {},
   "outputs": [
    {
     "name": "stdout",
     "output_type": "stream",
     "text": [
      "📊 Nota Aile Dağılımı (%):\n",
      "note_family\n",
      "çiçeksi              19.58\n",
      "amberli              14.82\n",
      "meyveli              14.30\n",
      "odunsu               14.19\n",
      "Diğer                13.78\n",
      "baharatlı             7.31\n",
      "yeşil                 3.48\n",
      "otlu_aromatik         2.34\n",
      "şekerli_tatlı         1.91\n",
      "sitrus                1.72\n",
      "sentetik              1.11\n",
      "deri                  1.06\n",
      "reçineli_balsamlı     1.05\n",
      "kuruyemiş             0.77\n",
      "deniz_su              0.66\n",
      "tütsü                 0.63\n",
      "tütün                 0.47\n",
      "içki                  0.40\n",
      "kahve_çay             0.40\n",
      "ağaç                  0.01\n",
      "\n",
      "🌺 Parfüm Başına Ortalama Nota Ailesi Sayısı: 8.1\n",
      "\n",
      "🔥 En Popüler 10 Kombinasyon:\n",
      "amberli + meyveli + çiçeksi: 10167\n",
      "amberli + odunsu + çiçeksi: 8713\n",
      "meyveli + odunsu + çiçeksi: 8555\n",
      "Diğer + amberli + çiçeksi: 7497\n",
      "Diğer + meyveli + çiçeksi: 7399\n",
      "amberli + çiçeksi + çiçeksi: 7019\n",
      "Diğer + odunsu + çiçeksi: 6834\n",
      "meyveli + çiçeksi + çiçeksi: 6561\n",
      "amberli + meyveli + odunsu: 6231\n",
      "amberli + çiçeksi: 5837\n",
      "\n",
      "⭐ Nota Ailelerine Göre Ortalama Ratingler:\n",
      "reçineli_balsamlı 4.08\n",
      "tütsü           4.07\n",
      "tütün           4.02\n",
      "içki            4.01\n",
      "otlu_aromatik   4.01\n",
      "baharatlı       4.01\n",
      "kahve_çay       4.01\n",
      "amberli         4.00\n",
      "kuruyemiş       4.00\n",
      "şekerli_tatlı   3.99\n",
      "sentetik        3.99\n",
      "deri            3.99\n",
      "odunsu          3.99\n",
      "çiçeksi         3.99\n",
      "meyveli         3.96\n",
      "yeşil           3.96\n",
      "deniz_su        3.95\n",
      "sitrus          3.93\n",
      "ağaç            3.73\n",
      "\n",
      "🏆 En İyi 10 Marka Analizi:\n",
      "\n",
      "avon perfumes and colognes\n",
      "  Ortalama Rating: 3.91\n",
      "  Top 3 Nota Ailesi:\n",
      "  - Diğer: 55 kez\n",
      "  - meyveli: 50 kez\n",
      "  - çiçeksi: 50 kez\n",
      "\n",
      "zara perfumes and colognes\n",
      "  Ortalama Rating: 4.07\n",
      "  Top 3 Nota Ailesi:\n",
      "  - meyveli: 37 kez\n",
      "  - çiçeksi: 23 kez\n",
      "  - odunsu: 22 kez\n",
      "\n",
      "bath & body works perfumes and colognes\n",
      "  Ortalama Rating: 4.16\n",
      "  Top 3 Nota Ailesi:\n",
      "  - meyveli: 28 kez\n",
      "  - çiçeksi: 22 kez\n",
      "  - Diğer: 15 kez\n",
      "\n",
      "the dua brand perfumes and colognes\n",
      "  Ortalama Rating: 4.01\n",
      "  Top 3 Nota Ailesi:\n",
      "  - amberli: 31 kez\n",
      "  - Diğer: 31 kez\n",
      "  - meyveli: 23 kez\n",
      "\n",
      "natura perfumes and colognes\n",
      "  Ortalama Rating: 4.04\n",
      "  Top 3 Nota Ailesi:\n",
      "  - çiçeksi: 42 kez\n",
      "  - meyveli: 39 kez\n",
      "  - odunsu: 30 kez\n",
      "\n",
      "victoria's secret perfumes and colognes\n",
      "  Ortalama Rating: 4.05\n",
      "  Top 3 Nota Ailesi:\n",
      "  - Diğer: 18 kez\n",
      "  - meyveli: 16 kez\n",
      "  - çiçeksi: 15 kez\n",
      "\n",
      "rasasi perfumes and colognes\n",
      "  Ortalama Rating: 4.05\n",
      "  Top 3 Nota Ailesi:\n",
      "  - çiçeksi: 36 kez\n",
      "  - amberli: 31 kez\n",
      "  - odunsu: 30 kez\n",
      "\n",
      "alkemia perfumes perfumes and colognes\n",
      "  Ortalama Rating: 3.98\n",
      "  Top 3 Nota Ailesi:\n",
      "  - Diğer: 28 kez\n",
      "  - amberli: 13 kez\n",
      "  - çiçeksi: 11 kez\n",
      "\n",
      "dzintars perfumes and colognes\n",
      "  Ortalama Rating: 4.40\n",
      "  Top 3 Nota Ailesi:\n",
      "  - çiçeksi: 60 kez\n",
      "  - amberli: 26 kez\n",
      "  - meyveli: 20 kez\n",
      "\n",
      "givenchy perfumes and colognes\n",
      "  Ortalama Rating: 4.13\n",
      "  Top 3 Nota Ailesi:\n",
      "  - çiçeksi: 24 kez\n",
      "  - meyveli: 18 kez\n",
      "  - odunsu: 18 kez\n"
     ]
    }
   ],
   "source": [
    "print(\"📊 Nota Aile Dağılımı (%):\")\n",
    "print(family_dist.round(2).to_string())\n",
    "print(f\"\\n🌺 Parfüm Başına Ortalama Nota Ailesi Sayısı: {avg_count:.1f}\")\n",
    "\n",
    "print(\"\\n🔥 En Popüler 10 Kombinasyon:\")\n",
    "for combo, count in combos.most_common(10):\n",
    "    print(f\"{' + '.join(combo)}: {count}\")\n",
    "\n",
    "print(\"\\n⭐ Nota Ailelerine Göre Ortalama Ratingler:\")\n",
    "for fam, score in sorted(ratings.items(), key=lambda x: x[1], reverse=True):\n",
    "    print(f\"{fam:<15} {score:.2f}\")\n",
    "\n",
    "# Marka analizi fonksiyonu\n",
    "def brand_analysis(df):\n",
    "    brand_stats = {}\n",
    "    for brand in df['designer'].value_counts().head(10).index:\n",
    "        brand_df = df[df['designer'] == brand]\n",
    "        avg_rating = brand_df['rating'].mean()\n",
    "        top_families = brand_df['note_family'].explode().value_counts().head(3)\n",
    "        brand_stats[brand] = {'avg_rating': avg_rating, 'top_families': top_families}\n",
    "    return brand_stats\n",
    "\n",
    "print(\"\\n🏆 En İyi 10 Marka Analizi:\")\n",
    "for brand, stats in brand_analysis(df2).items():\n",
    "    print(f\"\\n{brand}\")\n",
    "    print(f\"  Ortalama Rating: {stats['avg_rating']:.2f}\")\n",
    "    print(\"  Top 3 Nota Ailesi:\")\n",
    "    for fam, count in stats['top_families'].items():\n",
    "        print(f\"  - {fam}: {count} kez\")"
   ]
  },
  {
   "cell_type": "markdown",
   "id": "aed4fe69-7de4-456d-a9f0-971956050fbc",
   "metadata": {},
   "source": [
    "## Analiz Sonuçları\n",
    "\n",
    "### En Popüler 10 Parfüm\n",
    "1. **Vanilla Scent** - Fiorucci for women and men - Rating: 5.0\n",
    "2. **Satori Fusho Organic Oud** - Ensar Oud for women and men - Rating: 5.0\n",
    "3. **Eau de Parfum Baies Exquises** - Durance en Provence for women and men - Rating: 5.0\n",
    "4. **Amuro 7** - Dzintars for women - Rating: 5.0\n",
    "5. **Горная фиалка (Mountain violet)** - Flora for women - Rating: 5.0\n",
    "6. **Sky Blue** - Novae Plus for women - Rating: 5.0\n",
    "7. **Orris TEAsense** - Mobius Fragrances for women and men - Rating: 5.0\n",
    "8. **Legend** - FA'RA for men - Rating: 5.0\n",
    "9. **Queen In The War** - Prince War for women - Rating: 5.0\n",
    "10. **Un Baiser sur le Pont Neuf** - Condensé Paris for women and men - Rating: 5.0\n",
    "\n",
    "### En Popüler Notalar\n",
    "- **Musk**: 942 kez kullanılmış\n",
    "- **Amber**: 694 kez kullanılmış\n",
    "- **Jasmine**: 660 kez kullanılmış\n",
    "- **Bergamot**: 657 kez kullanılmış\n",
    "- **Sandalwood**: 646 kez kullanılmış\n",
    "\n",
    "### Nota Aile Dağılımı (%)\n",
    "- **Çiçeksi**: 19.58%\n",
    "- **Amberli**: 14.82%\n",
    "- **Meyveli**: 14.30%\n",
    "- **Odunsu**: 14.19%\n",
    "- **Diğer**: 13.78%\n",
    "\n",
    "### Parfüm Başına Ortalama Nota Ailesi Sayısı\n",
    "- Ortalama: **8.1**\n",
    "\n",
    "### En Popüler 10 Kombinasyon\n",
    "- **amberli + meyveli + çiçeksi**: 10167\n",
    "- **amberli + odunsu + çiçeksi**: 8713\n",
    "- **meyveli + odunsu + çiçeksi**: 8555\n",
    "\n",
    "### Marka Analizi\n",
    "- **Avon**: Ortalama Rating: 3.91, Top 3 Nota Ailesi: Diğer, Meyveli, Çiçeksi\n",
    "- **Zara**: Ortalama Rating: 4.07, Top 3 Nota Ailesi: Meyveli, Çiçeksi, Odunsu\n",
    "- **Bath & Body Works**: Ortalama Rating: 4.16, Top 3 Nota Ailesi: Meyveli, Çiçeksi, Diğer\n",
    "\n",
    "Bu analiz, parfüm endüstrisindeki trendleri ve kullanıcı tercihlerini anlamak için önemli bilgiler sunmaktadır."
   ]
  },
  {
   "cell_type": "code",
   "execution_count": null,
   "id": "6eb35d26-fe18-4abf-b7b6-1496b7a9f2c4",
   "metadata": {},
   "outputs": [],
   "source": []
  }
 ],
 "metadata": {
  "kernelspec": {
   "display_name": "Python 3 (ipykernel)",
   "language": "python",
   "name": "python3"
  },
  "language_info": {
   "codemirror_mode": {
    "name": "ipython",
    "version": 3
   },
   "file_extension": ".py",
   "mimetype": "text/x-python",
   "name": "python",
   "nbconvert_exporter": "python",
   "pygments_lexer": "ipython3",
   "version": "3.12.7"
  }
 },
 "nbformat": 4,
 "nbformat_minor": 5
}
